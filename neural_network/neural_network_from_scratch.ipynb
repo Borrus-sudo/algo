{
 "cells": [
  {
   "cell_type": "code",
   "execution_count": 2,
   "id": "9f218aaf-32ca-484f-b7d8-df1894a73f41",
   "metadata": {},
   "outputs": [],
   "source": [
    "import numpy as np\n",
    "import matplotlib.pyplot as plt\n",
    "%matplotlib inline"
   ]
  },
  {
   "cell_type": "code",
   "execution_count": 5,
   "id": "ee610e3c-19f9-4b75-ac91-065a88e4af9f",
   "metadata": {},
   "outputs": [
    {
     "name": "stdout",
     "output_type": "stream",
     "text": [
      "[-5.   -4.75 -4.5  -4.25 -4.   -3.75 -3.5  -3.25 -3.   -2.75 -2.5  -2.25\n",
      " -2.   -1.75 -1.5  -1.25 -1.   -0.75 -0.5  -0.25  0.    0.25  0.5   0.75\n",
      "  1.    1.25  1.5   1.75  2.    2.25  2.5   2.75  3.    3.25  3.5   3.75\n",
      "  4.    4.25  4.5   4.75]\n"
     ]
    }
   ],
   "source": [
    "arr = np.arange(-5,5,0.25)\n",
    "print(arr)"
   ]
  },
  {
   "cell_type": "code",
   "execution_count": 6,
   "id": "83dabeb1-a1bf-4d08-8aee-036ef20395eb",
   "metadata": {},
   "outputs": [
    {
     "name": "stdout",
     "output_type": "stream",
     "text": [
      "[25.     22.5625 20.25   18.0625 16.     14.0625 12.25   10.5625  9.\n",
      "  7.5625  6.25    5.0625  4.      3.0625  2.25    1.5625  1.      0.5625\n",
      "  0.25    0.0625  0.      0.0625  0.25    0.5625  1.      1.5625  2.25\n",
      "  3.0625  4.      5.0625  6.25    7.5625  9.     10.5625 12.25   14.0625\n",
      " 16.     18.0625 20.25   22.5625]\n"
     ]
    }
   ],
   "source": [
    "def f(x):\n",
    "    return x**2\n",
    "ys = f(arr)\n",
    "print(ys)"
   ]
  },
  {
   "cell_type": "code",
   "execution_count": 7,
   "id": "4d0702f2-4224-4bca-a963-cc158cdf0036",
   "metadata": {},
   "outputs": [
    {
     "data": {
      "text/plain": [
       "[<matplotlib.lines.Line2D at 0x1cd35f57e90>]"
      ]
     },
     "execution_count": 7,
     "metadata": {},
     "output_type": "execute_result"
    },
    {
     "data": {
      "image/png": "[encoded data removed]",
      "text/plain": [
       "<Figure size 640x480 with 1 Axes>"
      ]
     },
     "metadata": {},
     "output_type": "display_data"
    }
   ],
   "source": [
    "xs = arr\n",
    "plt.plot(xs,ys)"
   ]
  },
  {
   "cell_type": "code",
   "execution_count": 18,
   "id": "c9a95342-d8fd-4bfe-a9a7-49b210bc7483",
   "metadata": {},
   "outputs": [
    {
     "name": "stdout",
     "output_type": "stream",
     "text": [
      "6.000533403494046\n"
     ]
    }
   ],
   "source": [
    "h = 0.000000000001\n",
    "x = 3.0\n",
    "print((f(x + h) - f(x))/h)"
   ]
  },
  {
   "cell_type": "code",
   "execution_count": 28,
   "id": "a189b71b-8551-4107-99a8-0d925b6c34a1",
   "metadata": {},
   "outputs": [
    {
     "name": "stdout",
     "output_type": "stream",
     "text": [
      "{Value(data=-2.0), Value(data=5)}\n"
     ]
    }
   ],
   "source": [
    "class Value:\n",
    "    def __init__(self, data, _children=()):\n",
    "        self.data = data\n",
    "        self._prev = set(_children)\n",
    "    def __repr__(self):\n",
    "        return f\"Value(data={self.data})\"\n",
    "    def __add__(self, other):\n",
    "        out = Value(self.data + other.data, (self, other))\n",
    "        return out\n",
    "    def __mul__(self, other):\n",
    "        out = Value(self.data * other.data, (self, other))\n",
    "        return out\n",
    "a = Value(2.0)\n",
    "b = Value(-1.0)\n",
    "c = Value(5)\n",
    "d = a * b + c\n",
    "print(d._prev)"
   ]
  },
  {
   "cell_type": "code",
   "execution_count": null,
   "id": "d2488ba0-cc45-4542-b77c-2f1f217e19c4",
   "metadata": {},
   "outputs": [],
   "source": []
  }
 ],
 "metadata": {
  "kernelspec": {
   "display_name": "Python 3 (ipykernel)",
   "language": "python",
   "name": "python3"
  },
  "language_info": {
   "codemirror_mode": {
    "name": "ipython",
    "version": 3
   },
   "file_extension": ".py",
   "mimetype": "text/x-python",
   "name": "python",
   "nbconvert_exporter": "python",
   "pygments_lexer": "ipython3",
   "version": "3.12.4"
  }
 },
 "nbformat": 4,
 "nbformat_minor": 5
}
